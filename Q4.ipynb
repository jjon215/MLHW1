{
  "nbformat": 4,
  "nbformat_minor": 0,
  "metadata": {
    "colab": {
      "name": "Q4.ipynb",
      "version": "0.3.2",
      "provenance": [],
      "include_colab_link": true
    },
    "kernelspec": {
      "name": "python3",
      "display_name": "Python 3"
    }
  },
  "cells": [
    {
      "cell_type": "markdown",
      "metadata": {
        "id": "view-in-github",
        "colab_type": "text"
      },
      "source": [
        "<a href=\"https://colab.research.google.com/github/jjon215/MLHW1/blob/master/Q4.ipynb\" target=\"_parent\"><img src=\"https://colab.research.google.com/assets/colab-badge.svg\" alt=\"Open In Colab\"/></a>"
      ]
    },
    {
      "metadata": {
        "id": "A0sqpaBa1HgT",
        "colab_type": "code",
        "outputId": "d41389f5-bd93-4fcb-ba40-2267d51469d1",
        "colab": {
          "base_uri": "https://localhost:8080/",
          "height": 780
        }
      },
      "cell_type": "code",
      "source": [
        "from keras.datasets import mnist\n",
        "from keras.utils import np_utils\n",
        "from keras.models import Sequential\n",
        "from keras.layers import Dense, Activation\n",
        "# the data, shuffled and split between train and test sets\n",
        "(X_train, y_train), (X_test, y_test) = mnist.load_data()\n",
        "input_dim = 784 #28*28\n",
        "nb_classes = 10\n",
        "X_train = X_train.reshape(60000, input_dim)\n",
        "X_test = X_test.reshape(10000, input_dim)\n",
        "X_train = X_train.astype('float32')\n",
        "X_test = X_test.astype('float32')\n",
        "X_train /= 255\n",
        "X_test /= 255\n",
        "Y_train = np_utils.to_categorical(y_train, nb_classes)\n",
        "Y_test = np_utils.to_categorical(y_test, nb_classes)\n"
      ],
      "execution_count": 0,
      "outputs": [
        {
          "output_type": "stream",
          "text": [
            "/usr/local/lib/python3.6/dist-packages/ipykernel_launcher.py:23: UserWarning: The `nb_epoch` argument in `fit` has been renamed `epochs`.\n"
          ],
          "name": "stderr"
        },
        {
          "output_type": "stream",
          "text": [
            "Train on 60000 samples, validate on 10000 samples\n",
            "Epoch 1/20\n",
            "60000/60000 [==============================] - 1s 23us/step - loss: 1.2872 - acc: 0.6978 - val_loss: 0.8130 - val_acc: 0.8341\n",
            "Epoch 2/20\n",
            "60000/60000 [==============================] - 1s 18us/step - loss: 0.7171 - acc: 0.8420 - val_loss: 0.6075 - val_acc: 0.8649\n",
            "Epoch 3/20\n",
            "60000/60000 [==============================] - 1s 18us/step - loss: 0.5877 - acc: 0.8601 - val_loss: 0.5258 - val_acc: 0.8760\n",
            "Epoch 4/20\n",
            "60000/60000 [==============================] - 1s 18us/step - loss: 0.5258 - acc: 0.8690 - val_loss: 0.4802 - val_acc: 0.8827\n",
            "Epoch 5/20\n",
            "60000/60000 [==============================] - 1s 18us/step - loss: 0.4881 - acc: 0.8756 - val_loss: 0.4502 - val_acc: 0.8877\n",
            "Epoch 6/20\n",
            "60000/60000 [==============================] - 1s 18us/step - loss: 0.4622 - acc: 0.8803 - val_loss: 0.4289 - val_acc: 0.8906\n",
            "Epoch 7/20\n",
            "60000/60000 [==============================] - 1s 18us/step - loss: 0.4431 - acc: 0.8838 - val_loss: 0.4130 - val_acc: 0.8941\n",
            "Epoch 8/20\n",
            "60000/60000 [==============================] - 1s 18us/step - loss: 0.4281 - acc: 0.8871 - val_loss: 0.4002 - val_acc: 0.8964\n",
            "Epoch 9/20\n",
            "60000/60000 [==============================] - 1s 18us/step - loss: 0.4161 - acc: 0.8889 - val_loss: 0.3897 - val_acc: 0.8985\n",
            "Epoch 10/20\n",
            "60000/60000 [==============================] - 1s 18us/step - loss: 0.4061 - acc: 0.8907 - val_loss: 0.3813 - val_acc: 0.8992\n",
            "Epoch 11/20\n",
            "60000/60000 [==============================] - 1s 18us/step - loss: 0.3976 - acc: 0.8924 - val_loss: 0.3739 - val_acc: 0.9009\n",
            "Epoch 12/20\n",
            "60000/60000 [==============================] - 1s 18us/step - loss: 0.3903 - acc: 0.8945 - val_loss: 0.3672 - val_acc: 0.9022\n",
            "Epoch 13/20\n",
            "60000/60000 [==============================] - 1s 18us/step - loss: 0.3840 - acc: 0.8957 - val_loss: 0.3615 - val_acc: 0.9031\n",
            "Epoch 14/20\n",
            "60000/60000 [==============================] - 1s 18us/step - loss: 0.3784 - acc: 0.8970 - val_loss: 0.3567 - val_acc: 0.9045\n",
            "Epoch 15/20\n",
            "60000/60000 [==============================] - 1s 18us/step - loss: 0.3733 - acc: 0.8983 - val_loss: 0.3523 - val_acc: 0.9061\n",
            "Epoch 16/20\n",
            "60000/60000 [==============================] - 1s 18us/step - loss: 0.3688 - acc: 0.8991 - val_loss: 0.3484 - val_acc: 0.9061\n",
            "Epoch 17/20\n",
            "60000/60000 [==============================] - 1s 18us/step - loss: 0.3647 - acc: 0.9000 - val_loss: 0.3449 - val_acc: 0.9075\n",
            "Epoch 18/20\n",
            "60000/60000 [==============================] - 1s 18us/step - loss: 0.3610 - acc: 0.9010 - val_loss: 0.3416 - val_acc: 0.9080\n",
            "Epoch 19/20\n",
            "60000/60000 [==============================] - 1s 18us/step - loss: 0.3575 - acc: 0.9013 - val_loss: 0.3386 - val_acc: 0.9085\n",
            "Epoch 20/20\n",
            "60000/60000 [==============================] - 1s 18us/step - loss: 0.3544 - acc: 0.9020 - val_loss: 0.3358 - val_acc: 0.9091\n",
            "Test score: 0.33575020363330843\n",
            "Test accuracy: 0.9091\n"
          ],
          "name": "stdout"
        }
      ]
    },
    {
      "metadata": {
        "id": "bycMbFcr5HK4",
        "colab_type": "code",
        "colab": {}
      },
      "cell_type": "code",
      "source": [
        ""
      ],
      "execution_count": 0,
      "outputs": []
    }
  ]
}